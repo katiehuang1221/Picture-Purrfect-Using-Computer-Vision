{
 "cells": [
  {
   "cell_type": "code",
   "execution_count": 1,
   "metadata": {},
   "outputs": [],
   "source": [
    "import cv2 as cv\n",
    "haar_cascade = cv.CascadeClassifier(cv.data.haarcascades\\\n",
    "                                    + 'haarcascade_frontalcatface_extended.xml')"
   ]
  },
  {
   "cell_type": "code",
   "execution_count": 2,
   "metadata": {},
   "outputs": [],
   "source": [
    "# importing os module \n",
    "import os "
   ]
  },
  {
   "cell_type": "markdown",
   "metadata": {},
   "source": [
    "## 1. Prepare the files\n",
    "Organize (rename) the labeled image files"
   ]
  },
  {
   "cell_type": "markdown",
   "metadata": {},
   "source": [
    "### Bad frames"
   ]
  },
  {
   "cell_type": "code",
   "execution_count": 3,
   "metadata": {},
   "outputs": [
    {
     "data": {
      "text/plain": [
       "133"
      ]
     },
     "execution_count": 3,
     "metadata": {},
     "output_type": "execute_result"
    }
   ],
   "source": [
    "# Bad picture prepared in folder frame_bad_rename\n",
    "# Check number of files\n",
    "mypath = '/Users/katiehuang/Documents/best_cat/OpenCV_blur/frame_bad_rename/'\n",
    "files = [f for f in os.listdir(mypath) if f!='.DS_Store']\n",
    "len(files)\n",
    "# files"
   ]
  },
  {
   "cell_type": "code",
   "execution_count": 4,
   "metadata": {
    "scrolled": true
   },
   "outputs": [],
   "source": [
    "# Rename the files\n",
    "mypath = '/Users/katiehuang/Documents/best_cat/OpenCV_blur/frame_bad_rename/'\n",
    "\n",
    "# Function to rename multiple files \n",
    "def main():\n",
    "    files = [f for f in os.listdir(mypath) if f!='.DS_Store']\n",
    "  \n",
    "    for count, filename in enumerate(os.listdir(mypath)):\n",
    "#         print(count, filename)\n",
    "        dst = \"bad_\" + \"{0:04}\".format(count) + \".jpg\"\n",
    "        src = mypath + filename \n",
    "        dst = mypath + dst \n",
    "          \n",
    "        # rename() function will \n",
    "        # rename all the files \n",
    "        os.rename(src, dst) \n",
    "\n",
    "# Driver Code \n",
    "if __name__ == '__main__': \n",
    "      \n",
    "    # Calling main() function \n",
    "    main();"
   ]
  },
  {
   "cell_type": "code",
   "execution_count": 5,
   "metadata": {},
   "outputs": [
    {
     "name": "stdout",
     "output_type": "stream",
     "text": [
      "Number of files: 133\n"
     ]
    }
   ],
   "source": [
    "# Read all files in folder as a list\n",
    "from os import listdir\n",
    "from os.path import isfile, join\n",
    "mypath = '/Users/katiehuang/Documents/best_cat/OpenCV_blur/frame_bad_rename/'\n",
    "files = sorted([f for f in listdir(mypath) if isfile(join(mypath, f))])\n",
    "print('Number of files:', len(files))\n",
    "# print(sorted(files))"
   ]
  },
  {
   "cell_type": "code",
   "execution_count": null,
   "metadata": {},
   "outputs": [],
   "source": []
  },
  {
   "cell_type": "markdown",
   "metadata": {},
   "source": [
    "### Good frames"
   ]
  },
  {
   "cell_type": "code",
   "execution_count": 6,
   "metadata": {},
   "outputs": [
    {
     "data": {
      "text/plain": [
       "108"
      ]
     },
     "execution_count": 6,
     "metadata": {},
     "output_type": "execute_result"
    }
   ],
   "source": [
    "# Good picture prepared in folder frame_good_rename\n",
    "# Check number of files\n",
    "mypath = '/Users/katiehuang/Documents/best_cat/OpenCV_blur/frame_good_rename/'\n",
    "files = [f for f in os.listdir(mypath) if f!='.DS_Store']\n",
    "len(files)\n",
    "# files"
   ]
  },
  {
   "cell_type": "code",
   "execution_count": 7,
   "metadata": {
    "scrolled": true
   },
   "outputs": [],
   "source": [
    "# Rename the files\n",
    "# importing os module \n",
    "import os \n",
    "mypath = '/Users/katiehuang/Documents/best_cat/OpenCV_blur/frame_good_rename/'\n",
    "\n",
    "# Function to rename multiple files \n",
    "def main():\n",
    "    files = [f for f in os.listdir(mypath) if f!='.DS_Store']\n",
    "  \n",
    "    for count, filename in enumerate(os.listdir(mypath)):\n",
    "#         print(count, filename)\n",
    "        dst = \"good_\" + \"{0:04}\".format(count) + \".jpg\"\n",
    "        src = mypath + filename \n",
    "        dst = mypath + dst \n",
    "          \n",
    "        # rename() function will \n",
    "        # rename all the files \n",
    "        os.rename(src, dst) \n",
    "\n",
    "# Driver Code \n",
    "if __name__ == '__main__': \n",
    "      \n",
    "    # Calling main() function \n",
    "    main();"
   ]
  },
  {
   "cell_type": "code",
   "execution_count": null,
   "metadata": {},
   "outputs": [],
   "source": [
    "# Read all files in folder as a list\n",
    "from os import listdir\n",
    "from os.path import isfile, join\n",
    "mypath = '/Users/katiehuang/Documents/best_cat/OpenCV_blur/frame_good_rename/'\n",
    "files = sorted([f for f in listdir(mypath) if isfile(join(mypath, f))])\n",
    "print('Number of files:', len(files))\n",
    "# print(sorted(files))"
   ]
  },
  {
   "cell_type": "code",
   "execution_count": null,
   "metadata": {},
   "outputs": [],
   "source": []
  },
  {
   "cell_type": "markdown",
   "metadata": {},
   "source": [
    "## 2. Blur detection\n",
    "For each image, detect cat face, crop to get region of intereset (cat face) and calculate Laplacian variance. Record these two values (run in python):\n",
    "* **lp_ratio:** ratio of Laplacian variance between cat face and the whole image\n",
    "* **blur:** blurry or not (0: clear, 1: blurry) depending on the chosen threshold value\n"
   ]
  },
  {
   "cell_type": "markdown",
   "metadata": {},
   "source": [
    "### Bad frames"
   ]
  },
  {
   "cell_type": "code",
   "execution_count": null,
   "metadata": {},
   "outputs": [],
   "source": [
    "# Empty list to record ROI/Whole value\n",
    "lp_ratio_bad = []\n",
    "# Empty list to record blurry or not (0: clear, 1: blurry)\n",
    "blur_bad = []\n",
    "# Read file\n",
    "for file in files[:]:\n",
    "    print(file)\n",
    "    img = cv.imread('frame_bad_rename/'+file, cv.IMREAD_GRAYSCALE)\n",
    "\n",
    "    # Detect cat face\n",
    "    faces_rect = haar_cascade.detectMultiScale(img, scaleFactor=1.1, minNeighbors=3)\n",
    "    # Draw rectangle around detected cat face\n",
    "    for (x,y,w,h) in faces_rect:\n",
    "        cv.rectangle(img, (x,y), (x+w,y+h), (0,255,0), thickness=3)\n",
    "\n",
    "    cv.imshow('Detected Cat Faces', img)\n",
    "\n",
    "    # Crop and leave cat face only\n",
    "    (x,y,w,h) = faces_rect[0]\n",
    "    cropped = img[y:y+h,x:x+w]\n",
    "    cv.imshow('Cropped',cropped)\n",
    "    \n",
    "    scale=img.shape[1]//w\n",
    "    resized = cv.resize(cropped, (w*scale,h*scale), interpolation=cv.INTER_CUBIC)\n",
    "    cv.imshow('Resized',resized)\n",
    "    \n",
    "    kernel_size=3;\n",
    "    laplacian_var_roi_resized = cv.Laplacian(resized, cv.CV_64F,kernel_size).var()\n",
    "    laplacian_var_roi = cv.Laplacian(cropped, cv.CV_64F,kernel_size).var()\n",
    "    laplacian_var_whole = cv.Laplacian(img, cv.CV_64F,kernel_size).var()\n",
    "    \n",
    "    # Append the ratio to lp_ratio\n",
    "    lp_ratio_bad.append(laplacian_var_roi_resized/laplacian_var_whole)\n",
    "\n",
    "\n",
    "    # Check if blurry\n",
    "    if laplacian_var_roi_resized/laplacian_var_whole < 0.03:\n",
    "        blur_bad.append(1)\n",
    "        # print(\"Image blurry\")\n",
    "    else:\n",
    "        blur_bad.append(0)\n",
    "        # print(\"Image okay\")\n",
    "\n",
    "    cv.waitKey(0)\n",
    "\n",
    "\n",
    "print(lp_ratio_bad)\n",
    "print(blur_bad)"
   ]
  },
  {
   "cell_type": "markdown",
   "metadata": {},
   "source": [
    "### Good frames"
   ]
  },
  {
   "cell_type": "code",
   "execution_count": null,
   "metadata": {},
   "outputs": [],
   "source": [
    "# Empty list to record ROI/Whole value\n",
    "lp_ratio_good = []\n",
    "# Empty list to record blurry or not (0: clear, 1: blurry)\n",
    "blur_good = []\n",
    "# Read file\n",
    "for file in files[:]:\n",
    "    print(file)\n",
    "    img = cv.imread('frame_good_rename/'+file, cv.IMREAD_GRAYSCALE)\n",
    "\n",
    "    # Detect cat face\n",
    "    faces_rect = haar_cascade.detectMultiScale(img, scaleFactor=1.1, minNeighbors=3)\n",
    "    # Draw rectangle around detected cat face\n",
    "    for (x,y,w,h) in faces_rect:\n",
    "        cv.rectangle(img, (x,y), (x+w,y+h), (0,255,0), thickness=3)\n",
    "\n",
    "    cv.imshow('Detected Cat Faces', img)\n",
    "\n",
    "    # Crop and leave cat face only\n",
    "    (x,y,w,h) = faces_rect[0]\n",
    "    cropped = img[y:y+h,x:x+w]\n",
    "    cv.imshow('Cropped',cropped)\n",
    "    \n",
    "    scale=img.shape[1]//w\n",
    "    resized = cv.resize(cropped, (w*scale,h*scale), interpolation=cv.INTER_CUBIC)\n",
    "    cv.imshow('Resized',resized)\n",
    "    \n",
    "    kernel_size=3;\n",
    "    laplacian_var_roi_resized = cv.Laplacian(resized, cv.CV_64F,kernel_size).var()\n",
    "    laplacian_var_roi = cv.Laplacian(cropped, cv.CV_64F,kernel_size).var()\n",
    "    laplacian_var_whole = cv.Laplacian(img, cv.CV_64F,kernel_size).var()\n",
    "    \n",
    "    # Append the ratio to lp_ratio\n",
    "    lp_ratio_good.append(laplacian_var_roi_resized/laplacian_var_whole)\n",
    "\n",
    "\n",
    "    # Check if blurry\n",
    "    if laplacian_var_roi_resized/laplacian_var_whole < 0.03:\n",
    "        blur_good.append(1)\n",
    "        # print(\"Image blurry\")\n",
    "    else:\n",
    "        blur_good.append(0)\n",
    "        # print(\"Image okay\")\n",
    "\n",
    "    cv.waitKey(0)\n",
    "\n",
    "\n",
    "print(lp_ratio_good)\n",
    "print(blur_good)"
   ]
  }
 ],
 "metadata": {
  "kernelspec": {
   "display_name": "Python 3",
   "language": "python",
   "name": "python3"
  },
  "language_info": {
   "codemirror_mode": {
    "name": "ipython",
    "version": 3
   },
   "file_extension": ".py",
   "mimetype": "text/x-python",
   "name": "python",
   "nbconvert_exporter": "python",
   "pygments_lexer": "ipython3",
   "version": "3.8.5"
  }
 },
 "nbformat": 4,
 "nbformat_minor": 4
}
